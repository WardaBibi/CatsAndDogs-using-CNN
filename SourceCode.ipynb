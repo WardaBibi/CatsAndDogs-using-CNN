{
  "cells": [
    {
      "cell_type": "code",
      "execution_count": null,
      "metadata": {
        "colab": {
          "base_uri": "https://localhost:8080/"
        },
        "id": "as4HJbplJulz",
        "outputId": "3a864e4a-a188-4902-8e2f-b7ed7c7dcba5"
      },
      "outputs": [
        {
          "name": "stdout",
          "output_type": "stream",
          "text": [
            "Looking in indexes: https://pypi.org/simple, https://us-python.pkg.dev/colab-wheels/public/simple/\n",
            "Requirement already satisfied: kaggle in /usr/local/lib/python3.10/dist-packages (1.5.13)\n",
            "Requirement already satisfied: certifi in /usr/local/lib/python3.10/dist-packages (from kaggle) (2022.12.7)\n",
            "Requirement already satisfied: tqdm in /usr/local/lib/python3.10/dist-packages (from kaggle) (4.65.0)\n",
            "Requirement already satisfied: python-slugify in /usr/local/lib/python3.10/dist-packages (from kaggle) (8.0.1)\n",
            "Requirement already satisfied: requests in /usr/local/lib/python3.10/dist-packages (from kaggle) (2.27.1)\n",
            "Requirement already satisfied: urllib3 in /usr/local/lib/python3.10/dist-packages (from kaggle) (1.26.15)\n",
            "Requirement already satisfied: python-dateutil in /usr/local/lib/python3.10/dist-packages (from kaggle) (2.8.2)\n",
            "Requirement already satisfied: six>=1.10 in /usr/local/lib/python3.10/dist-packages (from kaggle) (1.16.0)\n",
            "Requirement already satisfied: text-unidecode>=1.3 in /usr/local/lib/python3.10/dist-packages (from python-slugify->kaggle) (1.3)\n",
            "Requirement already satisfied: charset-normalizer~=2.0.0 in /usr/local/lib/python3.10/dist-packages (from requests->kaggle) (2.0.12)\n",
            "Requirement already satisfied: idna<4,>=2.5 in /usr/local/lib/python3.10/dist-packages (from requests->kaggle) (3.4)\n"
          ]
        }
      ],
      "source": [
        "pip install kaggle"
      ]
    },
    {
      "cell_type": "code",
      "execution_count": null,
      "metadata": {
        "colab": {
          "base_uri": "https://localhost:8080/"
        },
        "id": "6o7m9iYWJ2pU",
        "outputId": "3a9a16e8-6147-447b-ab65-727770362dc2"
      },
      "outputs": [
        {
          "name": "stdout",
          "output_type": "stream",
          "text": [
            "Downloading dogs-cats-images.zip to /content\n",
            "100% 433M/435M [00:21<00:00, 23.9MB/s]\n",
            "100% 435M/435M [00:21<00:00, 21.5MB/s]\n"
          ]
        }
      ],
      "source": [
        "!mkdir ~/.kaggle\n",
        "!cp kaggle.json ~/.kaggle/\n",
        "!chmod 600 ~/.kaggle/kaggle.json\n",
        "!kaggle datasets download -d chetankv/dogs-cats-images\n",
        "!unzip -q dogs-cats-images.zip"
      ]
    },
    {
      "cell_type": "code",
      "execution_count": null,
      "metadata": {
        "id": "6LM1-N3rKSl9"
      },
      "outputs": [],
      "source": [
        "import tensorflow as tf\n",
        "from tensorflow.keras.models import Sequential\n",
        "from tensorflow.keras.layers import Conv2D, MaxPooling2D, Flatten, Dense,Dropout\n",
        "from tensorflow.keras.preprocessing.image import ImageDataGenerator\n"
      ]
    },
    {
      "cell_type": "code",
      "execution_count": 18,
      "metadata": {
        "id": "NxrE9hsgKV0W"
      },
      "outputs": [],
      "source": [
        "# Create a sequential model\n",
        "model = Sequential()\n",
        "\n",
        "# Add a convolutional layer with 32 filters, each with a 3x3 kernel, \n",
        "# ReLU activation function, and input shape of 150x150 pixels with 3 channels\n",
        "model.add(Conv2D(32, (3, 3), activation='relu', input_shape=(150, 150, 3)))\n",
        "\n",
        "# Add a max pooling layer with a 2x2 pool size to reduce the spatial size of the feature maps\n",
        "model.add(MaxPooling2D((2, 2)))\n",
        "\n",
        "# Add a dropout layer to randomly drop 25% of the nodes in the layer to prevent overfitting\n",
        "model.add(Dropout(0.25))\n",
        "\n",
        "# Add a convolutional layer with 64 filters, each with a 3x3 kernel and ReLU activation function\n",
        "model.add(Conv2D(64, (3, 3), activation='relu'))\n",
        "\n",
        "# Add a max pooling layer with a 2x2 pool size\n",
        "model.add(MaxPooling2D((2, 2)))\n",
        "\n",
        "# Add another dropout layer to prevent overfitting\n",
        "model.add(Dropout(0.25))\n",
        "\n",
        "# Add a convolutional layer with 128 filters, each with a 3x3 kernel and ReLU activation function\n",
        "model.add(Conv2D(128, (3, 3), activation='relu'))\n",
        "\n",
        "# Add a max pooling layer with a 2x2 pool size\n",
        "model.add(MaxPooling2D((2, 2)))\n",
        "\n",
        "# Flatten the output of the previous layer to a 1D array\n",
        "model.add(Flatten())\n",
        "\n",
        "# Add a dense layer with 128 nodes and ReLU activation function\n",
        "model.add(Dense(128, activation='relu'))\n",
        "\n",
        "# Add a dropout layer to prevent overfitting\n",
        "model.add(Dropout(0.5))\n",
        "\n",
        "# Add a dense layer with 1 node and sigmoid activation function for binary classification\n",
        "model.add(Dense(1, activation='sigmoid'))\n"
      ]
    },
    {
      "cell_type": "code",
      "execution_count": 19,
      "metadata": {
        "id": "SNt82ZJXKZVu"
      },
      "outputs": [],
      "source": [
        "# Compile the model with Adam optimizer, binary crossentropy as the loss function, and accuracy as the metric to evaluate performance\n",
        "model.compile(optimizer='adam',\n",
        "              loss='binary_crossentropy',\n",
        "              metrics=['accuracy'])\n",
        "\n"
      ]
    },
    {
      "cell_type": "code",
      "execution_count": 20,
      "metadata": {
        "colab": {
          "base_uri": "https://localhost:8080/"
        },
        "id": "bHuxGtnXKctG",
        "outputId": "20399d69-2a25-484e-c799-d225504cbe14"
      },
      "outputs": [
        {
          "output_type": "stream",
          "name": "stdout",
          "text": [
            "Found 8000 images belonging to 2 classes.\n",
            "Found 2000 images belonging to 2 classes.\n"
          ]
        }
      ],
      "source": [
        "# Create an ImageDataGenerator object to rescale the pixel values of the training set images by a factor of 1/255\n",
        "train_datagen = ImageDataGenerator(rescale=1./255)\n",
        "\n",
        "# Use the ImageDataGenerator object to generate a batch of image data from the directory 'dataset/training_set'\n",
        "# The images are resized to 150x150 pixels and the batch size is set to 32.\n",
        "# The class_mode is set to 'binary' as the images are classified into two categories\n",
        "train_generator = train_datagen.flow_from_directory(\n",
        "        'dataset/training_set',\n",
        "        target_size=(150, 150),\n",
        "        batch_size=32,\n",
        "        class_mode='binary')\n",
        "\n",
        "# Create another ImageDataGenerator object to rescale the pixel values of the validation set images by a factor of 1/255\n",
        "validation_datagen = ImageDataGenerator(rescale=1./255)\n",
        "\n",
        "# Use the ImageDataGenerator object to generate a batch of image data from the directory 'dataset/test_set'\n",
        "# The images are resized to 150x150 pixels and the batch size is set to 32.\n",
        "# The class_mode is set to 'binary' as the images are classified into two categories\n",
        "validation_generator = validation_datagen.flow_from_directory(\n",
        "        'dataset/test_set',\n",
        "        target_size=(150, 150),\n",
        "        batch_size=32,\n",
        "        class_mode='binary')\n",
        "\n"
      ]
    },
    {
      "cell_type": "code",
      "execution_count": 21,
      "metadata": {
        "colab": {
          "base_uri": "https://localhost:8080/"
        },
        "id": "9XhT1YlMLIJ9",
        "outputId": "e40ebb94-e0c8-4bfb-8d03-7fb043306e81"
      },
      "outputs": [
        {
          "output_type": "stream",
          "name": "stdout",
          "text": [
            "Epoch 1/10\n"
          ]
        },
        {
          "output_type": "stream",
          "name": "stderr",
          "text": [
            "<ipython-input-21-18e5c015e1d2>:2: UserWarning: `Model.fit_generator` is deprecated and will be removed in a future version. Please use `Model.fit`, which supports generators.\n",
            "  history = model.fit_generator(\n"
          ]
        },
        {
          "output_type": "stream",
          "name": "stdout",
          "text": [
            "250/250 [==============================] - 39s 150ms/step - loss: 0.7304 - accuracy: 0.5180 - val_loss: 0.6922 - val_accuracy: 0.5131\n",
            "Epoch 2/10\n",
            "250/250 [==============================] - 37s 149ms/step - loss: 0.6706 - accuracy: 0.5876 - val_loss: 0.6621 - val_accuracy: 0.6275\n",
            "Epoch 3/10\n",
            "250/250 [==============================] - 38s 151ms/step - loss: 0.6314 - accuracy: 0.6550 - val_loss: 0.5928 - val_accuracy: 0.6910\n",
            "Epoch 4/10\n",
            "250/250 [==============================] - 34s 135ms/step - loss: 0.5921 - accuracy: 0.6896 - val_loss: 0.5647 - val_accuracy: 0.7011\n",
            "Epoch 5/10\n",
            "250/250 [==============================] - 37s 149ms/step - loss: 0.5526 - accuracy: 0.7136 - val_loss: 0.5228 - val_accuracy: 0.7404\n",
            "Epoch 6/10\n",
            "250/250 [==============================] - 34s 135ms/step - loss: 0.4864 - accuracy: 0.7676 - val_loss: 0.5283 - val_accuracy: 0.7384\n",
            "Epoch 7/10\n",
            "250/250 [==============================] - 38s 150ms/step - loss: 0.4364 - accuracy: 0.7966 - val_loss: 0.4882 - val_accuracy: 0.7656\n",
            "Epoch 8/10\n",
            "250/250 [==============================] - 37s 150ms/step - loss: 0.3939 - accuracy: 0.8186 - val_loss: 0.4855 - val_accuracy: 0.7782\n",
            "Epoch 9/10\n",
            "250/250 [==============================] - 37s 149ms/step - loss: 0.3502 - accuracy: 0.8401 - val_loss: 0.4838 - val_accuracy: 0.7868\n",
            "Epoch 10/10\n",
            "250/250 [==============================] - 33s 133ms/step - loss: 0.2998 - accuracy: 0.8676 - val_loss: 0.5600 - val_accuracy: 0.7571\n"
          ]
        }
      ],
      "source": [
        "# Train the model using the fit_generator method with the ImageDataGenerator objects for the training and validation sets\n",
        "history = model.fit_generator(\n",
        "      train_generator,\n",
        "      steps_per_epoch=train_generator.n // train_generator.batch_size, # number of batches per epoch\n",
        "      epochs=10, # number of training epochs\n",
        "      validation_data=validation_generator,\n",
        "      validation_steps=validation_generator.n // validation_generator.batch_size) # number of batches per validation\n",
        "\n"
      ]
    },
    {
      "cell_type": "code",
      "execution_count": 22,
      "metadata": {
        "colab": {
          "base_uri": "https://localhost:8080/",
          "height": 472
        },
        "id": "AEZLWa8iLJ5f",
        "outputId": "6ac97ea6-30e7-4928-9b27-14846abf531b"
      },
      "outputs": [
        {
          "output_type": "display_data",
          "data": {
            "text/plain": [
              "<Figure size 640x480 with 1 Axes>"
            ],
            "image/png": "[encoded data removed]"
          },
          "metadata": {}
        }
      ],
      "source": [
        "# Import the matplotlib.pyplot library to plot the training and validation accuracy over epochs\n",
        "import matplotlib.pyplot as plt\n",
        "\n",
        "# Plot the training and validation accuracy over the number of epochs\n",
        "plt.plot(history.history['accuracy'], label='Training Accuracy') # plot the training accuracy values\n",
        "plt.plot(history.history['val_accuracy'], label='Validation Accuracy') # plot the validation accuracy values\n",
        "plt.title('Training and Validation Accuracy') # set the title of the plot\n",
        "plt.xlabel('Epoch') # set the x-axis label of the plot\n",
        "plt.ylabel('Accuracy') # set the y-axis label of the plot\n",
        "plt.legend() # display the legend\n",
        "plt.show() # display the plot\n",
        "\n"
      ]
    },
    {
      "cell_type": "code",
      "execution_count": 65,
      "metadata": {
        "id": "FSWKKWhYSEFm"
      },
      "outputs": [],
      "source": [
        "# Import the necessary libraries\n",
        "import numpy as np\n",
        "from PIL import Image\n",
        "\n",
        "# Define a function to predict the class of an image file\n",
        "def predict_image(filename):\n",
        "    # Open the image file and resize it to match the input size of the model\n",
        "    img = Image.open(filename)\n",
        "    img = img.resize((150, 150))\n",
        "    \n",
        "    # Convert the image to a numpy array and normalize the pixel values to be between 0 and 1\n",
        "    img_array = np.array(img) / 255.0\n",
        "    \n",
        "    # Add an extra dimension to the array to match the expected shape of the input tensor\n",
        "    img_array = np.expand_dims(img_array, axis=0)\n",
        "    \n",
        "    # Use the model to predict the class of the image\n",
        "    prediction = model.predict(img_array)\n",
        "    \n",
        "    # Return the predicted class as a string ('cat' if prediction < 0.5, 'dog' otherwise)\n",
        "    if prediction <= 0.5:\n",
        "        return 'cat'\n",
        "    else:\n",
        "        return 'dog'\n",
        "\n"
      ]
    },
    {
      "cell_type": "code",
      "execution_count": 66,
      "metadata": {
        "colab": {
          "base_uri": "https://localhost:8080/"
        },
        "id": "sh8OQ9zTSKuf",
        "outputId": "cae1396b-9f0a-42b4-e63c-c8e017453f78"
      },
      "outputs": [
        {
          "output_type": "stream",
          "name": "stdout",
          "text": [
            "1/1 [==============================] - 0s 20ms/step\n",
            "Prediction: cat\n"
          ]
        }
      ],
      "source": [
        "# Define the filename of the image to predict\n",
        "filename = 'test-image-cat.jpeg'\n",
        "\n",
        "# Call the predict_image function to make a prediction on the image\n",
        "prediction = predict_image(filename)\n",
        "\n",
        "# Print the predicted class of the image\n",
        "print('Prediction:', prediction)\n",
        "\n",
        "\n"
      ]
    },
    {
      "cell_type": "code",
      "execution_count": 67,
      "metadata": {
        "colab": {
          "base_uri": "https://localhost:8080/"
        },
        "id": "goEeRxmXSxK6",
        "outputId": "b9ea0176-485b-4d02-c981-eda06932c496"
      },
      "outputs": [
        {
          "output_type": "stream",
          "name": "stdout",
          "text": [
            "1/1 [==============================] - 0s 25ms/step\n",
            "Prediction: dog\n"
          ]
        }
      ],
      "source": [
        "# Define the filename of the image to predict\n",
        "filename = 'test-image-dog.jpeg'\n",
        "\n",
        "# Call the predict_image function to make a prediction on the image\n",
        "prediction = predict_image(filename)\n",
        "\n",
        "# Print the predicted class of the image\n",
        "print('Prediction:', prediction)"
      ]
    },
    {
      "cell_type": "code",
      "execution_count": null,
      "metadata": {
        "id": "TpWVe4GbSzB0"
      },
      "outputs": [],
      "source": []
    }
  ],
  "metadata": {
    "accelerator": "GPU",
    "colab": {
      "provenance": []
    },
    "gpuClass": "standard",
    "kernelspec": {
      "display_name": "Python 3",
      "name": "python3"
    },
    "language_info": {
      "name": "python"
    }
  },
  "nbformat": 4,
  "nbformat_minor": 0
}